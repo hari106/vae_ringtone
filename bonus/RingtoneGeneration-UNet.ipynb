{
 "cells": [
  {
   "cell_type": "code",
   "execution_count": 1,
   "id": "4949b94b-8dc9-47cd-ab46-294de53eb4f3",
   "metadata": {
    "tags": []
   },
   "outputs": [],
   "source": [
    "import os\n",
    "import numpy as np\n",
    "import pretty_midi\n",
    "import torch\n",
    "import torch.nn as nn\n",
    "import torch.optim as optim\n",
    "from torch.utils.data import Dataset, DataLoader\n",
    "import matplotlib.pyplot as plt"
   ]
  },
  {
   "cell_type": "code",
   "execution_count": 2,
   "id": "444bad45-304a-4021-a56d-9e72052c47f6",
   "metadata": {
    "tags": []
   },
   "outputs": [],
   "source": [
    "# -----------------------------\n",
    "# Data Preprocessing Functions\n",
    "# -----------------------------\n",
    "\n",
    "def midi_to_piano_roll(midi_file, fps=100):\n",
    "    \"\"\"\n",
    "    Convert a MIDI file to a piano roll representation.\n",
    "    Args:\n",
    "        midi_file (str): Path to the MIDI file.\n",
    "        fps (int): Frames per second for the piano roll.\n",
    "    Returns:\n",
    "        numpy.ndarray: Piano roll representation (time_steps, pitches).\n",
    "    \"\"\"\n",
    "    midi_data = pretty_midi.PrettyMIDI(midi_file)\n",
    "    piano_roll = midi_data.get_piano_roll(fs=fps).T  # Shape: (time_steps, pitches)\n",
    "    piano_roll = (piano_roll > 0).astype(np.float32)  # Binary activation (note on/off)\n",
    "    return piano_roll\n",
    "\n",
    "def pad_or_crop(piano_roll, max_time_steps):\n",
    "    \"\"\"\n",
    "    Ensure the piano roll has a fixed number of time steps by padding or cropping.\n",
    "    \"\"\"\n",
    "    if piano_roll.shape[0] > max_time_steps:\n",
    "        return piano_roll[:max_time_steps, :]\n",
    "    else:\n",
    "        padding = max_time_steps - piano_roll.shape[0]\n",
    "        return np.pad(piano_roll, ((0, padding), (0, 0)), mode='constant')\n"
   ]
  },
  {
   "cell_type": "code",
   "execution_count": 3,
   "id": "266dadd9-32ac-4e7b-a6ba-a83754917586",
   "metadata": {
    "tags": []
   },
   "outputs": [],
   "source": [
    "# -----------------------------\n",
    "# Custom Dataset for MIDI Data\n",
    "# -----------------------------\n",
    "\n",
    "class MIDIDataset(Dataset):\n",
    "    def __init__(self, midi_dir, max_time_steps=128, fps=100):\n",
    "        self.midi_files = [os.path.join(midi_dir, f) for f in os.listdir(midi_dir) if f.endswith('.mid')]\n",
    "        self.max_time_steps = max_time_steps\n",
    "        self.fps = fps\n",
    "\n",
    "    def __len__(self):\n",
    "        return len(self.midi_files)\n",
    "\n",
    "    def __getitem__(self, idx):\n",
    "        piano_roll = midi_to_piano_roll(self.midi_files[idx], fps=self.fps)\n",
    "        piano_roll = pad_or_crop(piano_roll, self.max_time_steps)\n",
    "\n",
    "        # Add noise to the input for training\n",
    "        noisy_piano_roll = piano_roll + 0.2 * np.random.randn(*piano_roll.shape)\n",
    "        noisy_piano_roll = np.clip(noisy_piano_roll, 0, 1)  # Keep values in [0, 1]\n",
    "\n",
    "        return torch.tensor(noisy_piano_roll, dtype=torch.float32), torch.tensor(piano_roll, dtype=torch.float32)\n"
   ]
  },
  {
   "cell_type": "code",
   "execution_count": 4,
   "id": "c8c17884-0801-4385-a12a-130baced6be2",
   "metadata": {
    "tags": []
   },
   "outputs": [],
   "source": [
    "# -----------------------------\n",
    "# U-Net Model Definition\n",
    "# -----------------------------\n",
    "\n",
    "class UNet(nn.Module):\n",
    "    def __init__(self, input_channels=1, output_channels=1):\n",
    "        super(UNet, self).__init__()\n",
    "\n",
    "        # Encoder\n",
    "        self.enc1 = self._conv_block(input_channels, 64)\n",
    "        self.pool1 = nn.MaxPool2d(kernel_size=2)\n",
    "        self.enc2 = self._conv_block(64, 128)\n",
    "        self.pool2 = nn.MaxPool2d(kernel_size=2)\n",
    "\n",
    "        # Bottleneck\n",
    "        self.bottleneck = self._conv_block(128, 256)\n",
    "\n",
    "        # Decoder\n",
    "        self.up1 = nn.ConvTranspose2d(256, 128, kernel_size=2, stride=2)\n",
    "        self.dec1 = self._conv_block(256, 128)\n",
    "        self.up2 = nn.ConvTranspose2d(128, 64, kernel_size=2, stride=2)\n",
    "        self.dec2 = self._conv_block(128, 64)\n",
    "\n",
    "        # Final output layer\n",
    "        self.final = nn.Conv2d(64, output_channels, kernel_size=1)\n",
    "\n",
    "    def _conv_block(self, in_channels, out_channels):\n",
    "        return nn.Sequential(\n",
    "            nn.Conv2d(in_channels, out_channels, kernel_size=3, padding=1),\n",
    "            nn.ReLU(inplace=True),\n",
    "            nn.Conv2d(out_channels, out_channels, kernel_size=3, padding=1),\n",
    "            nn.ReLU(inplace=True)\n",
    "        )\n",
    "\n",
    "    def forward(self, x):\n",
    "        # Encoder\n",
    "        enc1 = self.enc1(x)\n",
    "        enc2 = self.enc2(self.pool1(enc1))\n",
    "\n",
    "        # Bottleneck\n",
    "        bottleneck = self.bottleneck(self.pool2(enc2))\n",
    "\n",
    "        # Decoder\n",
    "        up1 = self.up1(bottleneck)\n",
    "        dec1 = self.dec1(torch.cat([up1, enc2], dim=1))\n",
    "        up2 = self.up2(dec1)\n",
    "        dec2 = self.dec2(torch.cat([up2, enc1], dim=1))\n",
    "\n",
    "        # Final output\n",
    "        output = self.final(dec2)\n",
    "        return output\n"
   ]
  },
  {
   "cell_type": "code",
   "execution_count": 5,
   "id": "c456a10d-5183-47c1-9a82-22047b9bfd5e",
   "metadata": {
    "tags": []
   },
   "outputs": [],
   "source": [
    "\n",
    "# -----------------------------\n",
    "# Training Loop\n",
    "# -----------------------------\n",
    "\n",
    "def train_unet(model, dataloader, num_epochs=10, lr=0.001):\n",
    "    device = torch.device(\"cuda\" if torch.cuda.is_available() else \"cpu\")\n",
    "    model.to(device)\n",
    "    optimizer = optim.Adam(model.parameters(), lr=lr)\n",
    "    criterion = nn.BCEWithLogitsLoss()\n",
    "\n",
    "    for epoch in range(num_epochs):\n",
    "        model.train()\n",
    "        epoch_loss = 0\n",
    "\n",
    "        for noisy_piano_roll, clean_piano_roll in dataloader:\n",
    "            noisy_piano_roll = noisy_piano_roll.unsqueeze(1).to(device)  # Add channel dim\n",
    "            clean_piano_roll = clean_piano_roll.unsqueeze(1).to(device)\n",
    "\n",
    "            optimizer.zero_grad()\n",
    "            output = model(noisy_piano_roll)\n",
    "            loss = criterion(output, clean_piano_roll)\n",
    "            loss.backward()\n",
    "            optimizer.step()\n",
    "\n",
    "            epoch_loss += loss.item()\n",
    "\n",
    "        print(f\"Epoch {epoch + 1}/{num_epochs}, Loss: {epoch_loss / len(dataloader):.4f}\")\n"
   ]
  },
  {
   "cell_type": "code",
   "execution_count": 6,
   "id": "f4336bf0-d29c-4258-b4a1-b3049ff18420",
   "metadata": {
    "tags": []
   },
   "outputs": [
    {
     "name": "stderr",
     "output_type": "stream",
     "text": [
      "/opt/anaconda3/lib/python3.11/site-packages/pretty_midi/pretty_midi.py:100: RuntimeWarning: Tempo, Key or Time signature change events found on non-zero tracks.  This is not a valid type 0 or type 1 MIDI file.  Tempo, Key or Time Signature may be wrong.\n",
      "  warnings.warn(\n"
     ]
    },
    {
     "name": "stdout",
     "output_type": "stream",
     "text": [
      "Epoch 1/20, Loss: 0.1640\n",
      "Epoch 2/20, Loss: 0.0302\n",
      "Epoch 3/20, Loss: 0.0095\n",
      "Epoch 4/20, Loss: 0.0015\n",
      "Epoch 5/20, Loss: 0.0012\n",
      "Epoch 6/20, Loss: 0.0011\n",
      "Epoch 7/20, Loss: 0.0010\n",
      "Epoch 8/20, Loss: 0.0009\n",
      "Epoch 9/20, Loss: 0.0008\n",
      "Epoch 10/20, Loss: 0.0007\n",
      "Epoch 11/20, Loss: 0.0006\n",
      "Epoch 12/20, Loss: 0.0006\n",
      "Epoch 13/20, Loss: 0.0005\n",
      "Epoch 14/20, Loss: 0.0004\n",
      "Epoch 15/20, Loss: 0.0004\n",
      "Epoch 16/20, Loss: 0.0003\n",
      "Epoch 17/20, Loss: 0.0003\n",
      "Epoch 18/20, Loss: 0.0003\n",
      "Epoch 19/20, Loss: 0.0002\n",
      "Epoch 20/20, Loss: 0.0003\n"
     ]
    }
   ],
   "source": [
    "# -----------------------------\n",
    "# Main Script\n",
    "# -----------------------------\n",
    "\n",
    "if __name__ == \"__main__\":\n",
    "    # Configuration\n",
    "    midi_dir = \"../archive\"\n",
    "    batch_size = 16\n",
    "    max_time_steps = 128\n",
    "    num_epochs = 20\n",
    "\n",
    "    # Dataset and DataLoader\n",
    "    dataset = MIDIDataset(midi_dir, max_time_steps=max_time_steps)\n",
    "    dataloader = DataLoader(dataset, batch_size=batch_size, shuffle=True)\n",
    "\n",
    "    # Model\n",
    "    model = UNet(input_channels=1, output_channels=1)\n",
    "\n",
    "    # Train\n",
    "    train_unet(model, dataloader, num_epochs=num_epochs)\n",
    "\n",
    "    # Save Model\n",
    "    torch.save(model.state_dict(), \"unet_midi_generator.pth\")"
   ]
  },
  {
   "cell_type": "code",
   "execution_count": 7,
   "id": "d0d21e9a-a6c2-4a92-aa80-0b83d60362a7",
   "metadata": {
    "tags": []
   },
   "outputs": [],
   "source": [
    "# -----------------------------\n",
    "# Ringtone Generation\n",
    "# -----------------------------\n",
    "\n",
    "def generate_ringtone_unet(model, max_time_steps, device):\n",
    "    \"\"\"\n",
    "    Generate a new ringtone from random input.\n",
    "    \"\"\"\n",
    "    model.eval()\n",
    "    random_input = torch.randn(1, 1, max_time_steps, 128).to(device)  # Random input tensor\n",
    "\n",
    "    with torch.no_grad():\n",
    "        output = model(random_input)\n",
    "\n",
    "    output_piano_roll = output.squeeze().cpu().numpy()\n",
    "    return (output_piano_roll > 0.5).astype(np.float32)  # Binary thresholding\n",
    "\n",
    "def piano_roll_to_midi(piano_roll, output_path, fps=100):\n",
    "    \"\"\"\n",
    "    Convert a piano roll array back to a MIDI file.\n",
    "    Args:\n",
    "        piano_roll (numpy.ndarray): Piano roll array (time_steps, pitches).\n",
    "        output_path (str): Path to save the MIDI file.\n",
    "        fps (int): Frames per second (tempo).\n",
    "    \"\"\"\n",
    "    midi_data = pretty_midi.PrettyMIDI()\n",
    "    instrument = pretty_midi.Instrument(program=0)  # Default to Acoustic Grand Piano\n",
    "\n",
    "    piano_roll = (piano_roll > 0.5).astype(int)  # Ensure binary\n",
    "    for pitch in range(piano_roll.shape[1]):\n",
    "        notes = np.where(piano_roll[:, pitch] == 1)[0]\n",
    "        if len(notes) > 0:\n",
    "            start_time = notes[0] / fps\n",
    "            end_time = (notes[-1] + 1) / fps\n",
    "            note = pretty_midi.Note(velocity=100, pitch=pitch, start=start_time, end=end_time)\n",
    "            instrument.notes.append(note)\n",
    "\n",
    "    midi_data.instruments.append(instrument)\n",
    "    midi_data.write(output_path)\n",
    "    print(f\"Saved generated ringtone to {output_path}\")"
   ]
  },
  {
   "cell_type": "code",
   "execution_count": 8,
   "id": "43e08a12-06a9-467c-9555-6b53d01e1723",
   "metadata": {
    "tags": []
   },
   "outputs": [
    {
     "name": "stdout",
     "output_type": "stream",
     "text": [
      "Saved generated ringtone to generated_ringtone_unet.mid\n"
     ]
    }
   ],
   "source": [
    "# Generate a Ringtone\n",
    "device = torch.device(\"cuda\" if torch.cuda.is_available() else \"cpu\")\n",
    "model.to(device)\n",
    "ringtone_piano_roll = generate_ringtone_unet(model, max_time_steps, device)\n",
    "\n",
    "# Save as MIDI\n",
    "piano_roll_to_midi(ringtone_piano_roll, \"generated_ringtone_unet.mid\")"
   ]
  },
  {
   "cell_type": "code",
   "execution_count": null,
   "id": "e34868ef-cf88-47b4-bfdf-acf856744b48",
   "metadata": {},
   "outputs": [],
   "source": []
  }
 ],
 "metadata": {
  "kernelspec": {
   "display_name": "Python 3 (ipykernel)",
   "language": "python",
   "name": "python3"
  },
  "language_info": {
   "codemirror_mode": {
    "name": "ipython",
    "version": 3
   },
   "file_extension": ".py",
   "mimetype": "text/x-python",
   "name": "python",
   "nbconvert_exporter": "python",
   "pygments_lexer": "ipython3",
   "version": "3.11.5"
  }
 },
 "nbformat": 4,
 "nbformat_minor": 5
}
